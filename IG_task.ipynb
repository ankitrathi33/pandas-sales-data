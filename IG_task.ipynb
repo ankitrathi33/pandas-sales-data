{
 "cells": [
  {
   "cell_type": "code",
   "execution_count": 25,
   "id": "optical-honor",
   "metadata": {},
   "outputs": [],
   "source": [
    "import numpy as np\n",
    "import pandas as pd"
   ]
  },
  {
   "cell_type": "code",
   "execution_count": 26,
   "id": "recognized-asian",
   "metadata": {},
   "outputs": [],
   "source": [
    "data1 = pd.read_csv('headcount.csv')\n",
    "data2 = pd.read_csv('leave.csv')\n",
    "\n",
    "headcount = pd.DataFrame(data1)\n",
    "leave = pd.DataFrame(data2)"
   ]
  },
  {
   "cell_type": "code",
   "execution_count": 27,
   "id": "saving-abraham",
   "metadata": {},
   "outputs": [
    {
     "data": {
      "text/plain": [
       "(9, 2)"
      ]
     },
     "execution_count": 27,
     "metadata": {},
     "output_type": "execute_result"
    }
   ],
   "source": [
    "headcount.shape"
   ]
  },
  {
   "cell_type": "code",
   "execution_count": 28,
   "id": "golden-recycling",
   "metadata": {},
   "outputs": [
    {
     "data": {
      "text/plain": [
       "(246, 7)"
      ]
     },
     "execution_count": 28,
     "metadata": {},
     "output_type": "execute_result"
    }
   ],
   "source": [
    "leave.shape"
   ]
  },
  {
   "cell_type": "code",
   "execution_count": 29,
   "id": "blank-vertex",
   "metadata": {},
   "outputs": [
    {
     "data": {
      "text/html": [
       "<div>\n",
       "<style scoped>\n",
       "    .dataframe tbody tr th:only-of-type {\n",
       "        vertical-align: middle;\n",
       "    }\n",
       "\n",
       "    .dataframe tbody tr th {\n",
       "        vertical-align: top;\n",
       "    }\n",
       "\n",
       "    .dataframe thead th {\n",
       "        text-align: right;\n",
       "    }\n",
       "</style>\n",
       "<table border=\"1\" class=\"dataframe\">\n",
       "  <thead>\n",
       "    <tr style=\"text-align: right;\">\n",
       "      <th></th>\n",
       "      <th>Employee ID</th>\n",
       "      <th>Name</th>\n",
       "      <th>Location</th>\n",
       "      <th>Team</th>\n",
       "      <th>Termination Date</th>\n",
       "      <th>Termination Category</th>\n",
       "      <th>Reason</th>\n",
       "    </tr>\n",
       "  </thead>\n",
       "  <tbody>\n",
       "    <tr>\n",
       "      <th>0</th>\n",
       "      <td>1181</td>\n",
       "      <td>Aairah Burt</td>\n",
       "      <td>United Kingdom</td>\n",
       "      <td>Technology</td>\n",
       "      <td>01/07/2021</td>\n",
       "      <td>Voluntary</td>\n",
       "      <td>Higher Pay</td>\n",
       "    </tr>\n",
       "    <tr>\n",
       "      <th>1</th>\n",
       "      <td>1355</td>\n",
       "      <td>Aaliya Reeves</td>\n",
       "      <td>United Kingdom</td>\n",
       "      <td>Clients</td>\n",
       "      <td>01/07/2021</td>\n",
       "      <td>Voluntary</td>\n",
       "      <td>Did not disclose</td>\n",
       "    </tr>\n",
       "    <tr>\n",
       "      <th>2</th>\n",
       "      <td>1070</td>\n",
       "      <td>Aamna Swanson</td>\n",
       "      <td>United Kingdom</td>\n",
       "      <td>Clients</td>\n",
       "      <td>01/07/2021</td>\n",
       "      <td>Voluntary</td>\n",
       "      <td>Higher Pay</td>\n",
       "    </tr>\n",
       "    <tr>\n",
       "      <th>3</th>\n",
       "      <td>1173</td>\n",
       "      <td>Abel Bradley</td>\n",
       "      <td>United Kingdom</td>\n",
       "      <td>Clients</td>\n",
       "      <td>01/07/2021</td>\n",
       "      <td>Voluntary</td>\n",
       "      <td>Career change</td>\n",
       "    </tr>\n",
       "    <tr>\n",
       "      <th>4</th>\n",
       "      <td>1345</td>\n",
       "      <td>Adil Norman</td>\n",
       "      <td>United Kingdom</td>\n",
       "      <td>Clients</td>\n",
       "      <td>02/07/2021</td>\n",
       "      <td>Voluntary</td>\n",
       "      <td>Career change</td>\n",
       "    </tr>\n",
       "  </tbody>\n",
       "</table>\n",
       "</div>"
      ],
      "text/plain": [
       "   Employee ID           Name        Location        Team Termination Date  \\\n",
       "0         1181    Aairah Burt  United Kingdom  Technology       01/07/2021   \n",
       "1         1355  Aaliya Reeves  United Kingdom     Clients       01/07/2021   \n",
       "2         1070  Aamna Swanson  United Kingdom     Clients       01/07/2021   \n",
       "3         1173   Abel Bradley  United Kingdom     Clients       01/07/2021   \n",
       "4         1345    Adil Norman  United Kingdom     Clients       02/07/2021   \n",
       "\n",
       "  Termination Category            Reason  \n",
       "0            Voluntary        Higher Pay  \n",
       "1            Voluntary  Did not disclose  \n",
       "2            Voluntary        Higher Pay  \n",
       "3            Voluntary     Career change  \n",
       "4            Voluntary     Career change  "
      ]
     },
     "execution_count": 29,
     "metadata": {},
     "output_type": "execute_result"
    }
   ],
   "source": [
    "leave.head()"
   ]
  },
  {
   "cell_type": "code",
   "execution_count": 30,
   "id": "established-north",
   "metadata": {},
   "outputs": [
    {
     "data": {
      "text/plain": [
       "array(['United Kingdom', 'Poland', 'United States of America'],\n",
       "      dtype=object)"
      ]
     },
     "execution_count": 30,
     "metadata": {},
     "output_type": "execute_result"
    }
   ],
   "source": [
    "leave['Location'].unique()"
   ]
  },
  {
   "cell_type": "code",
   "execution_count": 31,
   "id": "loved-honduras",
   "metadata": {},
   "outputs": [
    {
     "data": {
      "text/plain": [
       "array(['Higher Pay', 'Did not disclose', 'Career change', 'Redundancy',\n",
       "       'Moved', 'Dismissal'], dtype=object)"
      ]
     },
     "execution_count": 31,
     "metadata": {},
     "output_type": "execute_result"
    }
   ],
   "source": [
    "leave['Reason'].unique()"
   ]
  },
  {
   "cell_type": "code",
   "execution_count": 32,
   "id": "legislative-thailand",
   "metadata": {},
   "outputs": [
    {
     "data": {
      "text/plain": [
       "array(['Voluntary', 'Involuntary'], dtype=object)"
      ]
     },
     "execution_count": 32,
     "metadata": {},
     "output_type": "execute_result"
    }
   ],
   "source": [
    "leave['Termination Category'].unique()"
   ]
  },
  {
   "cell_type": "code",
   "execution_count": 118,
   "id": "fresh-embassy",
   "metadata": {},
   "outputs": [],
   "source": [
    "new_data = pd.DataFrame()"
   ]
  },
  {
   "cell_type": "code",
   "execution_count": 119,
   "id": "aboriginal-emergency",
   "metadata": {},
   "outputs": [],
   "source": [
    "new_data['Location'] = leave['Location']"
   ]
  },
  {
   "cell_type": "code",
   "execution_count": 120,
   "id": "dependent-healing",
   "metadata": {},
   "outputs": [],
   "source": [
    "new_data['Reason'] = leave['Reason']"
   ]
  },
  {
   "cell_type": "code",
   "execution_count": 121,
   "id": "postal-castle",
   "metadata": {},
   "outputs": [
    {
     "data": {
      "text/html": [
       "<div>\n",
       "<style scoped>\n",
       "    .dataframe tbody tr th:only-of-type {\n",
       "        vertical-align: middle;\n",
       "    }\n",
       "\n",
       "    .dataframe tbody tr th {\n",
       "        vertical-align: top;\n",
       "    }\n",
       "\n",
       "    .dataframe thead th {\n",
       "        text-align: right;\n",
       "    }\n",
       "</style>\n",
       "<table border=\"1\" class=\"dataframe\">\n",
       "  <thead>\n",
       "    <tr style=\"text-align: right;\">\n",
       "      <th></th>\n",
       "      <th>Location</th>\n",
       "      <th>Reason</th>\n",
       "    </tr>\n",
       "  </thead>\n",
       "  <tbody>\n",
       "    <tr>\n",
       "      <th>0</th>\n",
       "      <td>United Kingdom</td>\n",
       "      <td>Higher Pay</td>\n",
       "    </tr>\n",
       "    <tr>\n",
       "      <th>1</th>\n",
       "      <td>United Kingdom</td>\n",
       "      <td>Did not disclose</td>\n",
       "    </tr>\n",
       "    <tr>\n",
       "      <th>2</th>\n",
       "      <td>United Kingdom</td>\n",
       "      <td>Higher Pay</td>\n",
       "    </tr>\n",
       "    <tr>\n",
       "      <th>3</th>\n",
       "      <td>United Kingdom</td>\n",
       "      <td>Career change</td>\n",
       "    </tr>\n",
       "    <tr>\n",
       "      <th>4</th>\n",
       "      <td>United Kingdom</td>\n",
       "      <td>Career change</td>\n",
       "    </tr>\n",
       "    <tr>\n",
       "      <th>...</th>\n",
       "      <td>...</td>\n",
       "      <td>...</td>\n",
       "    </tr>\n",
       "    <tr>\n",
       "      <th>241</th>\n",
       "      <td>United States of America</td>\n",
       "      <td>Career change</td>\n",
       "    </tr>\n",
       "    <tr>\n",
       "      <th>242</th>\n",
       "      <td>United States of America</td>\n",
       "      <td>Career change</td>\n",
       "    </tr>\n",
       "    <tr>\n",
       "      <th>243</th>\n",
       "      <td>United States of America</td>\n",
       "      <td>Higher Pay</td>\n",
       "    </tr>\n",
       "    <tr>\n",
       "      <th>244</th>\n",
       "      <td>United States of America</td>\n",
       "      <td>Higher Pay</td>\n",
       "    </tr>\n",
       "    <tr>\n",
       "      <th>245</th>\n",
       "      <td>United States of America</td>\n",
       "      <td>Redundancy</td>\n",
       "    </tr>\n",
       "  </tbody>\n",
       "</table>\n",
       "<p>246 rows × 2 columns</p>\n",
       "</div>"
      ],
      "text/plain": [
       "                     Location            Reason\n",
       "0              United Kingdom        Higher Pay\n",
       "1              United Kingdom  Did not disclose\n",
       "2              United Kingdom        Higher Pay\n",
       "3              United Kingdom     Career change\n",
       "4              United Kingdom     Career change\n",
       "..                        ...               ...\n",
       "241  United States of America     Career change\n",
       "242  United States of America     Career change\n",
       "243  United States of America        Higher Pay\n",
       "244  United States of America        Higher Pay\n",
       "245  United States of America        Redundancy\n",
       "\n",
       "[246 rows x 2 columns]"
      ]
     },
     "execution_count": 121,
     "metadata": {},
     "output_type": "execute_result"
    }
   ],
   "source": [
    "new_data"
   ]
  },
  {
   "cell_type": "code",
   "execution_count": 122,
   "id": "optional-commander",
   "metadata": {},
   "outputs": [
    {
     "data": {
      "text/plain": [
       "Location                  Reason          \n",
       "Poland                    Career change        6\n",
       "                          Did not disclose     9\n",
       "                          Dismissal            1\n",
       "                          Higher Pay          42\n",
       "                          Moved                8\n",
       "                          Redundancy           3\n",
       "United Kingdom            Career change       36\n",
       "                          Did not disclose    30\n",
       "                          Higher Pay          43\n",
       "                          Moved                7\n",
       "                          Redundancy           1\n",
       "United States of America  Career change       15\n",
       "                          Did not disclose    10\n",
       "                          Dismissal            1\n",
       "                          Higher Pay          25\n",
       "                          Redundancy           9\n",
       "dtype: int64"
      ]
     },
     "execution_count": 122,
     "metadata": {},
     "output_type": "execute_result"
    }
   ],
   "source": [
    "new_data.groupby(['Location','Reason']).size()"
   ]
  },
  {
   "cell_type": "code",
   "execution_count": 126,
   "id": "elegant-swaziland",
   "metadata": {},
   "outputs": [],
   "source": [
    "data = pd.DataFrame(new_data.groupby(['Location','Reason']).size().to_frame('size').unstack())"
   ]
  },
  {
   "cell_type": "code",
   "execution_count": 127,
   "id": "double-intro",
   "metadata": {},
   "outputs": [],
   "source": [
    "data = plot_data.fillna(0)"
   ]
  },
  {
   "cell_type": "code",
   "execution_count": 167,
   "id": "distinguished-fever",
   "metadata": {},
   "outputs": [
    {
     "data": {
      "text/plain": [
       "Text(0, 0.5, 'No. of employees left')"
      ]
     },
     "execution_count": 167,
     "metadata": {},
     "output_type": "execute_result"
    },
    {
     "data": {
      "image/png": "[encoded data removed]",
      "text/plain": [
       "<Figure size 432x288 with 1 Axes>"
      ]
     },
     "metadata": {
      "needs_background": "light"
     },
     "output_type": "display_data"
    }
   ],
   "source": [
    "ax=data.plot.bar(rot=0)\n",
    "ax.set_xlabel('Location')\n",
    "ax.set_ylabel(\"No. of employees left\")\n"
   ]
  },
  {
   "cell_type": "code",
   "execution_count": 168,
   "id": "threaded-sight",
   "metadata": {},
   "outputs": [
    {
     "data": {
      "text/html": [
       "<div>\n",
       "<style scoped>\n",
       "    .dataframe tbody tr th:only-of-type {\n",
       "        vertical-align: middle;\n",
       "    }\n",
       "\n",
       "    .dataframe tbody tr th {\n",
       "        vertical-align: top;\n",
       "    }\n",
       "\n",
       "    .dataframe thead th {\n",
       "        text-align: right;\n",
       "    }\n",
       "</style>\n",
       "<table border=\"1\" class=\"dataframe\">\n",
       "  <thead>\n",
       "    <tr style=\"text-align: right;\">\n",
       "      <th></th>\n",
       "      <th>Organisation</th>\n",
       "      <th>Average Headcount</th>\n",
       "    </tr>\n",
       "  </thead>\n",
       "  <tbody>\n",
       "    <tr>\n",
       "      <th>0</th>\n",
       "      <td>Clients</td>\n",
       "      <td>1095</td>\n",
       "    </tr>\n",
       "    <tr>\n",
       "      <th>1</th>\n",
       "      <td>Poland</td>\n",
       "      <td>334</td>\n",
       "    </tr>\n",
       "    <tr>\n",
       "      <th>2</th>\n",
       "      <td>UK</td>\n",
       "      <td>571</td>\n",
       "    </tr>\n",
       "    <tr>\n",
       "      <th>3</th>\n",
       "      <td>USA</td>\n",
       "      <td>190</td>\n",
       "    </tr>\n",
       "    <tr>\n",
       "      <th>4</th>\n",
       "      <td>Technology</td>\n",
       "      <td>526</td>\n",
       "    </tr>\n",
       "    <tr>\n",
       "      <th>5</th>\n",
       "      <td>Poland</td>\n",
       "      <td>236</td>\n",
       "    </tr>\n",
       "    <tr>\n",
       "      <th>6</th>\n",
       "      <td>UK</td>\n",
       "      <td>189</td>\n",
       "    </tr>\n",
       "    <tr>\n",
       "      <th>7</th>\n",
       "      <td>USA</td>\n",
       "      <td>101</td>\n",
       "    </tr>\n",
       "    <tr>\n",
       "      <th>8</th>\n",
       "      <td>Total</td>\n",
       "      <td>1621</td>\n",
       "    </tr>\n",
       "  </tbody>\n",
       "</table>\n",
       "</div>"
      ],
      "text/plain": [
       "  Organisation  Average Headcount\n",
       "0      Clients               1095\n",
       "1       Poland                334\n",
       "2           UK                571\n",
       "3          USA                190\n",
       "4   Technology                526\n",
       "5       Poland                236\n",
       "6           UK                189\n",
       "7          USA                101\n",
       "8        Total               1621"
      ]
     },
     "execution_count": 168,
     "metadata": {},
     "output_type": "execute_result"
    }
   ],
   "source": [
    "headcount"
   ]
  },
  {
   "cell_type": "code",
   "execution_count": 172,
   "id": "congressional-celebration",
   "metadata": {},
   "outputs": [
    {
     "data": {
      "text/plain": [
       "<pandas.core.groupby.generic.DataFrameGroupBy object at 0x7efd736efd50>"
      ]
     },
     "execution_count": 172,
     "metadata": {},
     "output_type": "execute_result"
    }
   ],
   "source": [
    "headcount.groupby(['Organisation'])"
   ]
  },
  {
   "cell_type": "code",
   "execution_count": 176,
   "id": "realistic-drinking",
   "metadata": {},
   "outputs": [],
   "source": [
    "avg = []"
   ]
  },
  {
   "cell_type": "code",
   "execution_count": 177,
   "id": "tamil-overhead",
   "metadata": {},
   "outputs": [],
   "source": [
    "avg.append((headcount.loc[headcount['Organisation'] == 'Poland', 'Average Headcount'].sum())/2)"
   ]
  },
  {
   "cell_type": "code",
   "execution_count": 179,
   "id": "another-compiler",
   "metadata": {},
   "outputs": [],
   "source": [
    "avg.append((headcount.loc[headcount['Organisation'] == 'UK', 'Average Headcount'].sum())/2)"
   ]
  },
  {
   "cell_type": "code",
   "execution_count": 180,
   "id": "decent-crowd",
   "metadata": {},
   "outputs": [],
   "source": [
    "avg.append((headcount.loc[headcount['Organisation'] == 'USA', 'Average Headcount'].sum())/2)"
   ]
  },
  {
   "cell_type": "code",
   "execution_count": 181,
   "id": "vital-alpha",
   "metadata": {},
   "outputs": [
    {
     "data": {
      "text/plain": [
       "[285.0, 380.0, 145.5]"
      ]
     },
     "execution_count": 181,
     "metadata": {},
     "output_type": "execute_result"
    }
   ],
   "source": [
    "avg"
   ]
  },
  {
   "cell_type": "code",
   "execution_count": 182,
   "id": "similar-census",
   "metadata": {},
   "outputs": [],
   "source": [
    "vol_data = pd.DataFrame()"
   ]
  },
  {
   "cell_type": "code",
   "execution_count": 183,
   "id": "derived-dayton",
   "metadata": {},
   "outputs": [],
   "source": [
    "vol_data['Location'] = leave['Location']"
   ]
  },
  {
   "cell_type": "code",
   "execution_count": 184,
   "id": "understood-invite",
   "metadata": {},
   "outputs": [],
   "source": [
    "vol_data['Termination'] = leave['Termination Category']"
   ]
  },
  {
   "cell_type": "code",
   "execution_count": 200,
   "id": "spiritual-converter",
   "metadata": {},
   "outputs": [
    {
     "data": {
      "text/html": [
       "<div>\n",
       "<style scoped>\n",
       "    .dataframe tbody tr th:only-of-type {\n",
       "        vertical-align: middle;\n",
       "    }\n",
       "\n",
       "    .dataframe tbody tr th {\n",
       "        vertical-align: top;\n",
       "    }\n",
       "\n",
       "    .dataframe thead th {\n",
       "        text-align: right;\n",
       "    }\n",
       "</style>\n",
       "<table border=\"1\" class=\"dataframe\">\n",
       "  <thead>\n",
       "    <tr style=\"text-align: right;\">\n",
       "      <th></th>\n",
       "      <th>Location</th>\n",
       "      <th>Termination</th>\n",
       "    </tr>\n",
       "  </thead>\n",
       "  <tbody>\n",
       "    <tr>\n",
       "      <th>0</th>\n",
       "      <td>United Kingdom</td>\n",
       "      <td>Voluntary</td>\n",
       "    </tr>\n",
       "    <tr>\n",
       "      <th>1</th>\n",
       "      <td>United Kingdom</td>\n",
       "      <td>Voluntary</td>\n",
       "    </tr>\n",
       "    <tr>\n",
       "      <th>2</th>\n",
       "      <td>United Kingdom</td>\n",
       "      <td>Voluntary</td>\n",
       "    </tr>\n",
       "    <tr>\n",
       "      <th>3</th>\n",
       "      <td>United Kingdom</td>\n",
       "      <td>Voluntary</td>\n",
       "    </tr>\n",
       "    <tr>\n",
       "      <th>4</th>\n",
       "      <td>United Kingdom</td>\n",
       "      <td>Voluntary</td>\n",
       "    </tr>\n",
       "    <tr>\n",
       "      <th>...</th>\n",
       "      <td>...</td>\n",
       "      <td>...</td>\n",
       "    </tr>\n",
       "    <tr>\n",
       "      <th>241</th>\n",
       "      <td>United States of America</td>\n",
       "      <td>Voluntary</td>\n",
       "    </tr>\n",
       "    <tr>\n",
       "      <th>242</th>\n",
       "      <td>United States of America</td>\n",
       "      <td>Voluntary</td>\n",
       "    </tr>\n",
       "    <tr>\n",
       "      <th>243</th>\n",
       "      <td>United States of America</td>\n",
       "      <td>Voluntary</td>\n",
       "    </tr>\n",
       "    <tr>\n",
       "      <th>244</th>\n",
       "      <td>United States of America</td>\n",
       "      <td>Voluntary</td>\n",
       "    </tr>\n",
       "    <tr>\n",
       "      <th>245</th>\n",
       "      <td>United States of America</td>\n",
       "      <td>Involuntary</td>\n",
       "    </tr>\n",
       "  </tbody>\n",
       "</table>\n",
       "<p>246 rows × 2 columns</p>\n",
       "</div>"
      ],
      "text/plain": [
       "                     Location  Termination\n",
       "0              United Kingdom    Voluntary\n",
       "1              United Kingdom    Voluntary\n",
       "2              United Kingdom    Voluntary\n",
       "3              United Kingdom    Voluntary\n",
       "4              United Kingdom    Voluntary\n",
       "..                        ...          ...\n",
       "241  United States of America    Voluntary\n",
       "242  United States of America    Voluntary\n",
       "243  United States of America    Voluntary\n",
       "244  United States of America    Voluntary\n",
       "245  United States of America  Involuntary\n",
       "\n",
       "[246 rows x 2 columns]"
      ]
     },
     "execution_count": 200,
     "metadata": {},
     "output_type": "execute_result"
    }
   ],
   "source": [
    "vol_data"
   ]
  },
  {
   "cell_type": "code",
   "execution_count": 208,
   "id": "funny-elder",
   "metadata": {},
   "outputs": [],
   "source": [
    "vol = []"
   ]
  },
  {
   "cell_type": "code",
   "execution_count": 203,
   "id": "standing-bruce",
   "metadata": {},
   "outputs": [],
   "source": [
    "pol_vol = vol_data[(vol_data['Location'] == 'Poland') & (vol_data['Termination'] == 'Voluntary')]"
   ]
  },
  {
   "cell_type": "code",
   "execution_count": 205,
   "id": "incorporate-landscape",
   "metadata": {},
   "outputs": [],
   "source": [
    "uk_vol = vol_data[(vol_data['Location'] == 'United Kingdom') & (vol_data['Termination'] == 'Voluntary')]"
   ]
  },
  {
   "cell_type": "code",
   "execution_count": 206,
   "id": "worthy-segment",
   "metadata": {},
   "outputs": [],
   "source": [
    "us_vol = vol_data[(vol_data['Location'] == 'United States of America') & (vol_data['Termination'] == 'Voluntary')]"
   ]
  },
  {
   "cell_type": "code",
   "execution_count": 209,
   "id": "unlikely-county",
   "metadata": {},
   "outputs": [],
   "source": [
    "vol.append(pol_vol.shape[0])"
   ]
  },
  {
   "cell_type": "code",
   "execution_count": 210,
   "id": "swedish-poultry",
   "metadata": {},
   "outputs": [],
   "source": [
    "vol.append(uk_vol.shape[0])"
   ]
  },
  {
   "cell_type": "code",
   "execution_count": 211,
   "id": "statutory-record",
   "metadata": {},
   "outputs": [],
   "source": [
    "vol.append(us_vol.shape[0])"
   ]
  },
  {
   "cell_type": "code",
   "execution_count": 212,
   "id": "collect-shoulder",
   "metadata": {},
   "outputs": [
    {
     "data": {
      "text/plain": [
       "[65, 116, 50]"
      ]
     },
     "execution_count": 212,
     "metadata": {},
     "output_type": "execute_result"
    }
   ],
   "source": [
    "vol"
   ]
  },
  {
   "cell_type": "code",
   "execution_count": 216,
   "id": "severe-affair",
   "metadata": {},
   "outputs": [],
   "source": [
    "vol_att = []"
   ]
  },
  {
   "cell_type": "code",
   "execution_count": 217,
   "id": "therapeutic-investigator",
   "metadata": {},
   "outputs": [],
   "source": [
    "for i in range(0,3):\n",
    "    vol_att.append((vol[i]/avg[i])*100)"
   ]
  },
  {
   "cell_type": "code",
   "execution_count": 218,
   "id": "parental-external",
   "metadata": {},
   "outputs": [
    {
     "data": {
      "text/plain": [
       "[22.807017543859647, 30.526315789473685, 34.36426116838488]"
      ]
     },
     "execution_count": 218,
     "metadata": {},
     "output_type": "execute_result"
    }
   ],
   "source": [
    "vol_att"
   ]
  },
  {
   "cell_type": "code",
   "execution_count": 219,
   "id": "ordinary-speech",
   "metadata": {},
   "outputs": [
    {
     "data": {
      "image/png": "[encoded data removed]",
      "text/plain": [
       "<Figure size 432x288 with 1 Axes>"
      ]
     },
     "metadata": {
      "needs_background": "light"
     },
     "output_type": "display_data"
    }
   ],
   "source": [
    "country = ['Poland', 'UK', 'USA']\n",
    "df = pd.DataFrame({'Country':country, 'Voluntary Attiration':vol_att})\n",
    "ax = df.plot.bar(x='Country', y='Voluntary Attiration', rot=0)"
   ]
  },
  {
   "cell_type": "code",
   "execution_count": null,
   "id": "innovative-swift",
   "metadata": {},
   "outputs": [],
   "source": []
  }
 ],
 "metadata": {
  "kernelspec": {
   "display_name": "Python 3",
   "language": "python",
   "name": "python3"
  },
  "language_info": {
   "codemirror_mode": {
    "name": "ipython",
    "version": 3
   },
   "file_extension": ".py",
   "mimetype": "text/x-python",
   "name": "python",
   "nbconvert_exporter": "python",
   "pygments_lexer": "ipython3",
   "version": "3.7.9"
  }
 },
 "nbformat": 4,
 "nbformat_minor": 5
}
